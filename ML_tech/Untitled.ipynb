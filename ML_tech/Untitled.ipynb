{
 "cells": [
  {
   "cell_type": "markdown",
   "metadata": {},
   "source": [
    "打开pycharm，点击 File——>Close Projects(有的是Close Projects in Current Window)；\n",
    "\n",
    "2，然后会出现一个小窗口，左边一列为你的工程项目，选择想删除的项目，点击右上角的叉号；\n",
    "\n",
    "3，最后打开你想删除的工程项目的文件路径，左键点击选中该项目，然后按 Shift+Delete，彻底删除。\n",
    "————————————————\n",
    "版权声明：本文为CSDN博主「coding上下求索」的原创文章，遵循 CC 4.0 BY-SA 版权协议，转载请附上原文出处链接及本声明。\n",
    "原文链接：https://blog.csdn.net/shangxiaqiusuo1/article/details/86552912"
   ]
  },
  {
   "cell_type": "code",
   "execution_count": 1,
   "metadata": {},
   "outputs": [
    {
     "name": "stdout",
     "output_type": "stream",
     "text": [
      "hello\n"
     ]
    }
   ],
   "source": [
    "print(\"hello\")"
   ]
  },
  {
   "cell_type": "code",
   "execution_count": null,
   "metadata": {},
   "outputs": [],
   "source": []
  }
 ],
 "metadata": {
  "kernelspec": {
   "display_name": "Python 3",
   "language": "python",
   "name": "python3"
  },
  "language_info": {
   "codemirror_mode": {
    "name": "ipython",
    "version": 3
   },
   "file_extension": ".py",
   "mimetype": "text/x-python",
   "name": "python",
   "nbconvert_exporter": "python",
   "pygments_lexer": "ipython3",
   "version": "3.7.1"
  }
 },
 "nbformat": 4,
 "nbformat_minor": 4
}
